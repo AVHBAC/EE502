{
 "cells": [
  {
   "cell_type": "code",
   "execution_count": 1,
   "id": "9036670d-1c78-47b9-a451-631f59fb552b",
   "metadata": {
    "execution": {
     "iopub.execute_input": "2025-08-06T19:27:39.160114Z",
     "iopub.status.busy": "2025-08-06T19:27:39.160014Z",
     "iopub.status.idle": "2025-08-06T19:27:40.368784Z",
     "shell.execute_reply": "2025-08-06T19:27:40.368297Z"
    }
   },
   "outputs": [
    {
     "name": "stdout",
     "output_type": "stream",
     "text": [
      "\u001b[33mDEPRECATION: Loading egg at /home/lab2208/anaconda3/lib/python3.11/site-packages/chainer-7.8.1-py3.11.egg is deprecated. pip 25.1 will enforce this behaviour change. A possible replacement is to use pip for package installation. Discussion can be found at https://github.com/pypa/pip/issues/12330\u001b[0m\u001b[33m\n",
      "\u001b[0m\u001b[33mDEPRECATION: Loading egg at /home/lab2208/anaconda3/lib/python3.11/site-packages/pcanet-0.0.1-py3.11.egg is deprecated. pip 25.1 will enforce this behaviour change. A possible replacement is to use pip for package installation. Discussion can be found at https://github.com/pypa/pip/issues/12330\u001b[0m\u001b[33m\n",
      "\u001b[0m\u001b[33mDEPRECATION: Loading egg at /home/lab2208/anaconda3/lib/python3.11/site-packages/recommonmark-0.7.1-py3.11.egg is deprecated. pip 25.1 will enforce this behaviour change. A possible replacement is to use pip for package installation. Discussion can be found at https://github.com/pypa/pip/issues/12330\u001b[0m\u001b[33m\n",
      "\u001b[0m\u001b[33mDEPRECATION: Loading egg at /home/lab2208/anaconda3/lib/python3.11/site-packages/commonmark-0.9.1-py3.11.egg is deprecated. pip 25.1 will enforce this behaviour change. A possible replacement is to use pip for package installation. Discussion can be found at https://github.com/pypa/pip/issues/12330\u001b[0m\u001b[33m\n",
      "\u001b[0mRequirement already satisfied: pandas in /home/lab2208/anaconda3/lib/python3.11/site-packages (2.2.3)\n",
      "Requirement already satisfied: numpy in /home/lab2208/anaconda3/lib/python3.11/site-packages (1.26.4)\n",
      "Requirement already satisfied: librosa in /home/lab2208/anaconda3/lib/python3.11/site-packages (0.9.1)\n",
      "Requirement already satisfied: matplotlib in /home/lab2208/anaconda3/lib/python3.11/site-packages (3.10.0)\n",
      "Requirement already satisfied: seaborn in /home/lab2208/anaconda3/lib/python3.11/site-packages (0.13.2)\n",
      "Requirement already satisfied: scikit-learn in /home/lab2208/anaconda3/lib/python3.11/site-packages (1.6.1)\n",
      "Requirement already satisfied: keras in /home/lab2208/anaconda3/lib/python3.11/site-packages (3.1.1)\n",
      "Requirement already satisfied: python-dateutil>=2.8.2 in /home/lab2208/anaconda3/lib/python3.11/site-packages (from pandas) (2.9.0.post0)\n",
      "Requirement already satisfied: pytz>=2020.1 in /home/lab2208/anaconda3/lib/python3.11/site-packages (from pandas) (2024.1)\n",
      "Requirement already satisfied: tzdata>=2022.7 in /home/lab2208/anaconda3/lib/python3.11/site-packages (from pandas) (2023.3)\n",
      "Requirement already satisfied: audioread>=2.1.5 in /home/lab2208/anaconda3/lib/python3.11/site-packages (from librosa) (3.0.1)\n",
      "Requirement already satisfied: scipy>=1.2.0 in /home/lab2208/anaconda3/lib/python3.11/site-packages (from librosa) (1.13.1)\n",
      "Requirement already satisfied: joblib>=0.14 in /home/lab2208/anaconda3/lib/python3.11/site-packages (from librosa) (1.4.2)\n",
      "Requirement already satisfied: decorator>=4.0.10 in /home/lab2208/anaconda3/lib/python3.11/site-packages (from librosa) (5.1.1)\n",
      "Requirement already satisfied: resampy>=0.2.2 in /home/lab2208/anaconda3/lib/python3.11/site-packages (from librosa) (0.4.3)\n",
      "Requirement already satisfied: numba>=0.45.1 in /home/lab2208/anaconda3/lib/python3.11/site-packages (from librosa) (0.61.0)\n",
      "Requirement already satisfied: soundfile>=0.10.2 in /home/lab2208/anaconda3/lib/python3.11/site-packages (from librosa) (0.12.1)\n",
      "Requirement already satisfied: pooch>=1.0 in /home/lab2208/anaconda3/lib/python3.11/site-packages (from librosa) (1.8.0)\n",
      "Requirement already satisfied: packaging>=20.0 in /home/lab2208/anaconda3/lib/python3.11/site-packages (from librosa) (23.2)\n",
      "Requirement already satisfied: contourpy>=1.0.1 in /home/lab2208/anaconda3/lib/python3.11/site-packages (from matplotlib) (1.3.1)\n",
      "Requirement already satisfied: cycler>=0.10 in /home/lab2208/anaconda3/lib/python3.11/site-packages (from matplotlib) (0.11.0)\n",
      "Requirement already satisfied: fonttools>=4.22.0 in /home/lab2208/anaconda3/lib/python3.11/site-packages (from matplotlib) (4.55.3)\n",
      "Requirement already satisfied: kiwisolver>=1.3.1 in /home/lab2208/anaconda3/lib/python3.11/site-packages (from matplotlib) (1.4.8)\n",
      "Requirement already satisfied: pillow>=8 in /home/lab2208/anaconda3/lib/python3.11/site-packages (from matplotlib) (10.2.0)\n",
      "Requirement already satisfied: pyparsing>=2.3.1 in /home/lab2208/anaconda3/lib/python3.11/site-packages (from matplotlib) (3.2.0)\n",
      "Requirement already satisfied: threadpoolctl>=3.1.0 in /home/lab2208/anaconda3/lib/python3.11/site-packages (from scikit-learn) (3.5.0)\n",
      "Requirement already satisfied: absl-py in /home/lab2208/anaconda3/lib/python3.11/site-packages (from keras) (2.0.0)\n",
      "Requirement already satisfied: rich in /home/lab2208/anaconda3/lib/python3.11/site-packages (from keras) (13.9.4)\n",
      "Requirement already satisfied: namex in /home/lab2208/anaconda3/lib/python3.11/site-packages (from keras) (0.0.7)\n",
      "Requirement already satisfied: h5py in /home/lab2208/anaconda3/lib/python3.11/site-packages (from keras) (3.12.1)\n",
      "Requirement already satisfied: optree in /home/lab2208/anaconda3/lib/python3.11/site-packages (from keras) (0.14.1)\n",
      "Requirement already satisfied: ml-dtypes in /home/lab2208/anaconda3/lib/python3.11/site-packages (from keras) (0.3.2)\n",
      "Requirement already satisfied: llvmlite<0.45,>=0.44.0dev0 in /home/lab2208/anaconda3/lib/python3.11/site-packages (from numba>=0.45.1->librosa) (0.44.0)\n",
      "Requirement already satisfied: platformdirs>=2.5.0 in /home/lab2208/anaconda3/lib/python3.11/site-packages (from pooch>=1.0->librosa) (4.3.6)\n",
      "Requirement already satisfied: requests>=2.19.0 in /home/lab2208/anaconda3/lib/python3.11/site-packages (from pooch>=1.0->librosa) (2.32.3)\n",
      "Requirement already satisfied: six>=1.5 in /home/lab2208/anaconda3/lib/python3.11/site-packages (from python-dateutil>=2.8.2->pandas) (1.17.0)\n",
      "Requirement already satisfied: cffi>=1.0 in /home/lab2208/anaconda3/lib/python3.11/site-packages (from soundfile>=0.10.2->librosa) (1.17.1)\n",
      "Requirement already satisfied: typing-extensions>=4.5.0 in /home/lab2208/anaconda3/lib/python3.11/site-packages (from optree->keras) (4.12.2)\n",
      "Requirement already satisfied: markdown-it-py>=2.2.0 in /home/lab2208/anaconda3/lib/python3.11/site-packages (from rich->keras) (2.2.0)\n",
      "Requirement already satisfied: pygments<3.0.0,>=2.13.0 in /home/lab2208/anaconda3/lib/python3.11/site-packages (from rich->keras) (2.15.1)\n",
      "Requirement already satisfied: pycparser in /home/lab2208/anaconda3/lib/python3.11/site-packages (from cffi>=1.0->soundfile>=0.10.2->librosa) (2.21)\n",
      "Requirement already satisfied: mdurl~=0.1 in /home/lab2208/anaconda3/lib/python3.11/site-packages (from markdown-it-py>=2.2.0->rich->keras) (0.1.0)\n",
      "Requirement already satisfied: charset-normalizer<4,>=2 in /home/lab2208/anaconda3/lib/python3.11/site-packages (from requests>=2.19.0->pooch>=1.0->librosa) (3.4.1)\n",
      "Requirement already satisfied: idna<4,>=2.5 in /home/lab2208/anaconda3/lib/python3.11/site-packages (from requests>=2.19.0->pooch>=1.0->librosa) (3.10)\n",
      "Requirement already satisfied: urllib3<3,>=1.21.1 in /home/lab2208/anaconda3/lib/python3.11/site-packages (from requests>=2.19.0->pooch>=1.0->librosa) (2.3.0)\n",
      "Requirement already satisfied: certifi>=2017.4.17 in /home/lab2208/anaconda3/lib/python3.11/site-packages (from requests>=2.19.0->pooch>=1.0->librosa) (2025.4.26)\n",
      "Note: you may need to restart the kernel to use updated packages.\n"
     ]
    }
   ],
   "source": [
    "pip install pandas numpy librosa matplotlib seaborn scikit-learn keras"
   ]
  },
  {
   "cell_type": "code",
   "execution_count": 2,
   "id": "1eb73009-eec0-4892-bcc8-e70cd71a6d2a",
   "metadata": {
    "execution": {
     "iopub.execute_input": "2025-08-06T19:27:40.370142Z",
     "iopub.status.busy": "2025-08-06T19:27:40.370019Z",
     "iopub.status.idle": "2025-08-06T19:27:42.562520Z",
     "shell.execute_reply": "2025-08-06T19:27:42.562153Z"
    }
   },
   "outputs": [
    {
     "name": "stderr",
     "output_type": "stream",
     "text": [
      "2025-08-06 15:32:56.312007: I tensorflow/core/platform/cpu_feature_guard.cc:210] This TensorFlow binary is optimized to use available CPU instructions in performance-critical operations.\n",
      "To enable the following instructions: AVX2 FMA, in other operations, rebuild TensorFlow with the appropriate compiler flags.\n",
      "2025-08-06 15:32:56.947867: W tensorflow/compiler/tf2tensorrt/utils/py_utils.cc:38] TF-TRT Warning: Could not find TensorRT\n"
     ]
    }
   ],
   "source": [
    "import pandas as pd  # For data manipulation and analysis\n",
    "import numpy as np  # For numerical computations and array operations\n",
    "\n",
    "import os  # Provides functions to interact with the operating system\n",
    "import sys  # Provides access to system-specific parameters and functions\n",
    "\n",
    "# Librosa is a library for audio and music analysis. It allows extraction of features from audio files.\n",
    "import librosa  \n",
    "import librosa.display  # Provides visualization tools for audio data\n",
    "\n",
    "import seaborn as sns  # For creating statistical data visualizations\n",
    "import matplotlib.pyplot as plt  # For creating static, animated, and interactive visualizations\n",
    "\n",
    "from sklearn.preprocessing import StandardScaler, OneHotEncoder  # For feature scaling and encoding categorical data\n",
    "from sklearn.metrics import confusion_matrix, classification_report  # For evaluating classification models\n",
    "from sklearn.model_selection import train_test_split  # For splitting the dataset into training and testing sets\n",
    "\n",
    "# IPython.display.Audio is used to play audio directly in Jupyter Notebooks\n",
    "from IPython.display import Audio  \n",
    "\n",
    "import keras  # High-level API for building and training deep learning models\n",
    "from keras.callbacks import ReduceLROnPlateau  # Reduces learning rate when a metric stops improving\n",
    "from keras.models import Sequential  # Linear stack of layers for building neural networks\n",
    "from keras.layers import (Dense, Conv1D, MaxPooling1D, Flatten, Dropout, \n",
    "                          BatchNormalization)  # Various layers for constructing the neural network\n",
    "\n",
    "import warnings  # Provides control over warning messages\n",
    "# Suppress warnings to clean up the output\n",
    "if not sys.warnoptions:\n",
    "    warnings.simplefilter(\"ignore\")  # Ignore all warnings\n",
    "warnings.filterwarnings(\"ignore\", category=DeprecationWarning)  # Specifically ignore deprecation warnings\n"
   ]
  },
  {
   "cell_type": "code",
   "execution_count": 3,
   "id": "c0584e8b-45cf-44e8-847a-8db6a33c69c9",
   "metadata": {
    "execution": {
     "iopub.execute_input": "2025-08-06T19:27:42.564062Z",
     "iopub.status.busy": "2025-08-06T19:27:42.563815Z",
     "iopub.status.idle": "2025-08-06T19:27:42.565957Z",
     "shell.execute_reply": "2025-08-06T19:27:42.565714Z"
    }
   },
   "outputs": [],
   "source": [
    "# Define the file paths to different datasets containing emotional speech audio.\n",
    "\n",
    "# RAVDESS (Ryerson Audio-Visual Database of Emotional Speech and Song)\n",
    "# This dataset contains audio recordings of speech performed with different emotions.\n",
    "Ravdess = \"dataset/ravdess-emotional-speech-audio/audio_speech_actors_01-24/\"\n",
    "\n",
    "# CREMA-D (Crowd-sourced Emotional Multimodal Actors Dataset)\n",
    "# This dataset contains audio-visual recordings of actors performing with various emotions.\n",
    "Crema = \"dataset/cremad/AudioWAV/\"\n",
    "\n",
    "# TESS (Toronto Emotional Speech Set)\n",
    "# This dataset includes emotional speech data recorded by female speakers with different emotional expressions.\n",
    "Tess = \"dataset/toronto-emotional-speech-set-tess/TESS Toronto emotional speech set data/TESS Toronto emotional speech set data/\"\n",
    "\n",
    "# SAVEE (Surrey Audio-Visual Expressed Emotion)\n",
    "# This dataset includes audio recordings of speech expressing different emotions, recorded by male speakers.\n",
    "Savee = \"dataset/surrey-audiovisual-expressed-emotion-savee/ALL/\""
   ]
  },
  {
   "cell_type": "code",
   "execution_count": 4,
   "id": "b9e04aab-baee-4efc-bf36-36e677b18180",
   "metadata": {
    "execution": {
     "iopub.execute_input": "2025-08-06T19:27:42.566886Z",
     "iopub.status.busy": "2025-08-06T19:27:42.566787Z",
     "iopub.status.idle": "2025-08-06T19:27:42.576784Z",
     "shell.execute_reply": "2025-08-06T19:27:42.576549Z"
    }
   },
   "outputs": [
    {
     "data": {
      "text/html": [
       "<div>\n",
       "<style scoped>\n",
       "    .dataframe tbody tr th:only-of-type {\n",
       "        vertical-align: middle;\n",
       "    }\n",
       "\n",
       "    .dataframe tbody tr th {\n",
       "        vertical-align: top;\n",
       "    }\n",
       "\n",
       "    .dataframe thead th {\n",
       "        text-align: right;\n",
       "    }\n",
       "</style>\n",
       "<table border=\"1\" class=\"dataframe\">\n",
       "  <thead>\n",
       "    <tr style=\"text-align: right;\">\n",
       "      <th></th>\n",
       "      <th>Emotions</th>\n",
       "      <th>Path</th>\n",
       "    </tr>\n",
       "  </thead>\n",
       "  <tbody>\n",
       "    <tr>\n",
       "      <th>0</th>\n",
       "      <td>neutral</td>\n",
       "      <td>dataset/ravdess-emotional-speech-audio/audio_s...</td>\n",
       "    </tr>\n",
       "    <tr>\n",
       "      <th>1</th>\n",
       "      <td>sad</td>\n",
       "      <td>dataset/ravdess-emotional-speech-audio/audio_s...</td>\n",
       "    </tr>\n",
       "    <tr>\n",
       "      <th>2</th>\n",
       "      <td>happy</td>\n",
       "      <td>dataset/ravdess-emotional-speech-audio/audio_s...</td>\n",
       "    </tr>\n",
       "    <tr>\n",
       "      <th>3</th>\n",
       "      <td>happy</td>\n",
       "      <td>dataset/ravdess-emotional-speech-audio/audio_s...</td>\n",
       "    </tr>\n",
       "    <tr>\n",
       "      <th>4</th>\n",
       "      <td>calm</td>\n",
       "      <td>dataset/ravdess-emotional-speech-audio/audio_s...</td>\n",
       "    </tr>\n",
       "  </tbody>\n",
       "</table>\n",
       "</div>"
      ],
      "text/plain": [
       "  Emotions                                               Path\n",
       "0  neutral  dataset/ravdess-emotional-speech-audio/audio_s...\n",
       "1      sad  dataset/ravdess-emotional-speech-audio/audio_s...\n",
       "2    happy  dataset/ravdess-emotional-speech-audio/audio_s...\n",
       "3    happy  dataset/ravdess-emotional-speech-audio/audio_s...\n",
       "4     calm  dataset/ravdess-emotional-speech-audio/audio_s..."
      ]
     },
     "execution_count": 4,
     "metadata": {},
     "output_type": "execute_result"
    }
   ],
   "source": [
    "# List all actor directories in the RAVDESS dataset\n",
    "ravdess_directory_list = os.listdir(Ravdess)\n",
    "\n",
    "file_emotion = []  # To store emotion labels\n",
    "file_path = []  # To store file paths\n",
    "\n",
    "# Iterate through each actor's directory and process audio files\n",
    "for dir in ravdess_directory_list:\n",
    "    actor = os.listdir(Ravdess + dir)\n",
    "    for file in actor:\n",
    "        part = file.split('.')[0].split('-')  # Parse metadata from file name\n",
    "        file_emotion.append(int(part[2]))  # Extract emotion label\n",
    "        file_path.append(Ravdess + dir + '/' + file)  # Store full file path\n",
    "\n",
    "# Create DataFrames for emotions and file paths\n",
    "emotion_df = pd.DataFrame(file_emotion, columns=['Emotions'])\n",
    "path_df = pd.DataFrame(file_path, columns=['Path'])\n",
    "\n",
    "# Combine emotion and path DataFrames\n",
    "Ravdess_df = pd.concat([emotion_df, path_df], axis=1)\n",
    "\n",
    "# Map numeric emotion labels to descriptive names\n",
    "Ravdess_df.Emotions.replace({\n",
    "    1: 'neutral', 2: 'calm', 3: 'happy', 4: 'sad', \n",
    "    5: 'angry', 6: 'fear', 7: 'disgust', 8: 'surprise'\n",
    "}, inplace=True)\n",
    "\n",
    "# Display the first few rows of the DataFrame\n",
    "Ravdess_df.head()\n"
   ]
  },
  {
   "cell_type": "code",
   "execution_count": 5,
   "id": "1319af46-4d15-40e6-84d3-6438e03290fe",
   "metadata": {
    "execution": {
     "iopub.execute_input": "2025-08-06T19:27:42.577717Z",
     "iopub.status.busy": "2025-08-06T19:27:42.577618Z",
     "iopub.status.idle": "2025-08-06T19:27:42.588488Z",
     "shell.execute_reply": "2025-08-06T19:27:42.588254Z"
    }
   },
   "outputs": [
    {
     "data": {
      "text/html": [
       "<div>\n",
       "<style scoped>\n",
       "    .dataframe tbody tr th:only-of-type {\n",
       "        vertical-align: middle;\n",
       "    }\n",
       "\n",
       "    .dataframe tbody tr th {\n",
       "        vertical-align: top;\n",
       "    }\n",
       "\n",
       "    .dataframe thead th {\n",
       "        text-align: right;\n",
       "    }\n",
       "</style>\n",
       "<table border=\"1\" class=\"dataframe\">\n",
       "  <thead>\n",
       "    <tr style=\"text-align: right;\">\n",
       "      <th></th>\n",
       "      <th>Emotions</th>\n",
       "      <th>Path</th>\n",
       "    </tr>\n",
       "  </thead>\n",
       "  <tbody>\n",
       "    <tr>\n",
       "      <th>0</th>\n",
       "      <td>happy</td>\n",
       "      <td>dataset/cremad/AudioWAV/1030_IEO_HAP_MD.wav</td>\n",
       "    </tr>\n",
       "    <tr>\n",
       "      <th>1</th>\n",
       "      <td>sad</td>\n",
       "      <td>dataset/cremad/AudioWAV/1010_TSI_SAD_XX.wav</td>\n",
       "    </tr>\n",
       "    <tr>\n",
       "      <th>2</th>\n",
       "      <td>angry</td>\n",
       "      <td>dataset/cremad/AudioWAV/1048_ITH_ANG_XX.wav</td>\n",
       "    </tr>\n",
       "    <tr>\n",
       "      <th>3</th>\n",
       "      <td>fear</td>\n",
       "      <td>dataset/cremad/AudioWAV/1009_IEO_FEA_MD.wav</td>\n",
       "    </tr>\n",
       "    <tr>\n",
       "      <th>4</th>\n",
       "      <td>sad</td>\n",
       "      <td>dataset/cremad/AudioWAV/1078_IWW_SAD_XX.wav</td>\n",
       "    </tr>\n",
       "  </tbody>\n",
       "</table>\n",
       "</div>"
      ],
      "text/plain": [
       "  Emotions                                         Path\n",
       "0    happy  dataset/cremad/AudioWAV/1030_IEO_HAP_MD.wav\n",
       "1      sad  dataset/cremad/AudioWAV/1010_TSI_SAD_XX.wav\n",
       "2    angry  dataset/cremad/AudioWAV/1048_ITH_ANG_XX.wav\n",
       "3     fear  dataset/cremad/AudioWAV/1009_IEO_FEA_MD.wav\n",
       "4      sad  dataset/cremad/AudioWAV/1078_IWW_SAD_XX.wav"
      ]
     },
     "execution_count": 5,
     "metadata": {},
     "output_type": "execute_result"
    }
   ],
   "source": [
    "# List all files in the CREMA-D dataset\n",
    "crema_directory_list = os.listdir(Crema)\n",
    "\n",
    "file_emotion = []  # To store emotion labels\n",
    "file_path = []  # To store file paths\n",
    "\n",
    "# Iterate through files and extract file paths and emotions\n",
    "for file in crema_directory_list:\n",
    "    file_path.append(Crema + file)  # Store file path\n",
    "    part = file.split('_')  # Parse metadata from file name\n",
    "    # Map file metadata to emotion labels\n",
    "    if part[2] == 'SAD':\n",
    "        file_emotion.append('sad')\n",
    "    elif part[2] == 'ANG':\n",
    "        file_emotion.append('angry')\n",
    "    elif part[2] == 'DIS':\n",
    "        file_emotion.append('disgust')\n",
    "    elif part[2] == 'FEA':\n",
    "        file_emotion.append('fear')\n",
    "    elif part[2] == 'HAP':\n",
    "        file_emotion.append('happy')\n",
    "    elif part[2] == 'NEU':\n",
    "        file_emotion.append('neutral')\n",
    "    else:\n",
    "        file_emotion.append('Unknown')\n",
    "\n",
    "# Create DataFrames for emotions and file paths\n",
    "emotion_df = pd.DataFrame(file_emotion, columns=['Emotions'])\n",
    "path_df = pd.DataFrame(file_path, columns=['Path'])\n",
    "\n",
    "# Combine emotion and path DataFrames\n",
    "Crema_df = pd.concat([emotion_df, path_df], axis=1)\n",
    "\n",
    "# Display the first few rows of the DataFrame\n",
    "Crema_df.head()\n"
   ]
  },
  {
   "cell_type": "code",
   "execution_count": 6,
   "id": "d41173ea-6590-4107-9d42-3be823e61451",
   "metadata": {
    "execution": {
     "iopub.execute_input": "2025-08-06T19:27:42.589407Z",
     "iopub.status.busy": "2025-08-06T19:27:42.589310Z",
     "iopub.status.idle": "2025-08-06T19:27:43.066223Z",
     "shell.execute_reply": "2025-08-06T19:27:43.065886Z"
    }
   },
   "outputs": [
    {
     "data": {
      "text/html": [
       "<div>\n",
       "<style scoped>\n",
       "    .dataframe tbody tr th:only-of-type {\n",
       "        vertical-align: middle;\n",
       "    }\n",
       "\n",
       "    .dataframe tbody tr th {\n",
       "        vertical-align: top;\n",
       "    }\n",
       "\n",
       "    .dataframe thead th {\n",
       "        text-align: right;\n",
       "    }\n",
       "</style>\n",
       "<table border=\"1\" class=\"dataframe\">\n",
       "  <thead>\n",
       "    <tr style=\"text-align: right;\">\n",
       "      <th></th>\n",
       "      <th>Emotions</th>\n",
       "      <th>Path</th>\n",
       "    </tr>\n",
       "  </thead>\n",
       "  <tbody>\n",
       "    <tr>\n",
       "      <th>0</th>\n",
       "      <td>happy</td>\n",
       "      <td>dataset/toronto-emotional-speech-set-tess/TESS...</td>\n",
       "    </tr>\n",
       "    <tr>\n",
       "      <th>1</th>\n",
       "      <td>happy</td>\n",
       "      <td>dataset/toronto-emotional-speech-set-tess/TESS...</td>\n",
       "    </tr>\n",
       "    <tr>\n",
       "      <th>2</th>\n",
       "      <td>happy</td>\n",
       "      <td>dataset/toronto-emotional-speech-set-tess/TESS...</td>\n",
       "    </tr>\n",
       "    <tr>\n",
       "      <th>3</th>\n",
       "      <td>happy</td>\n",
       "      <td>dataset/toronto-emotional-speech-set-tess/TESS...</td>\n",
       "    </tr>\n",
       "    <tr>\n",
       "      <th>4</th>\n",
       "      <td>happy</td>\n",
       "      <td>dataset/toronto-emotional-speech-set-tess/TESS...</td>\n",
       "    </tr>\n",
       "  </tbody>\n",
       "</table>\n",
       "</div>"
      ],
      "text/plain": [
       "  Emotions                                               Path\n",
       "0    happy  dataset/toronto-emotional-speech-set-tess/TESS...\n",
       "1    happy  dataset/toronto-emotional-speech-set-tess/TESS...\n",
       "2    happy  dataset/toronto-emotional-speech-set-tess/TESS...\n",
       "3    happy  dataset/toronto-emotional-speech-set-tess/TESS...\n",
       "4    happy  dataset/toronto-emotional-speech-set-tess/TESS..."
      ]
     },
     "execution_count": 6,
     "metadata": {},
     "output_type": "execute_result"
    }
   ],
   "source": [
    "# List all directories in the TESS dataset\n",
    "tess_directory_list = os.listdir(Tess)\n",
    "\n",
    "file_emotion = []  # To store emotion labels\n",
    "file_path = []  # To store file paths\n",
    "\n",
    "# Iterate through each directory and process files\n",
    "for dir in tess_directory_list:\n",
    "    directories = os.listdir(Tess + dir)  # List all files in the current directory\n",
    "    for file in directories:\n",
    "        part = file.split('.')[0].split('_')[2]  # Extract emotion from the file name\n",
    "        # Map 'ps' to 'surprise', otherwise use the extracted part\n",
    "        if part == 'ps':\n",
    "            file_emotion.append('surprise')\n",
    "        else:\n",
    "            file_emotion.append(part)\n",
    "        file_path.append(Tess + dir + '/' + file)  # Store full file path\n",
    "\n",
    "# Create DataFrames for emotions and file paths\n",
    "emotion_df = pd.DataFrame(file_emotion, columns=['Emotions'])\n",
    "path_df = pd.DataFrame(file_path, columns=['Path'])\n",
    "\n",
    "# Combine emotion and path DataFrames\n",
    "Tess_df = pd.concat([emotion_df, path_df], axis=1)\n",
    "\n",
    "# Display the first few rows of the DataFrame\n",
    "Tess_df.head()"
   ]
  },
  {
   "cell_type": "code",
   "execution_count": 7,
   "id": "d2e7c957-a104-4317-9c78-54260bdf186b",
   "metadata": {
    "execution": {
     "iopub.execute_input": "2025-08-06T19:27:43.067415Z",
     "iopub.status.busy": "2025-08-06T19:27:43.067306Z",
     "iopub.status.idle": "2025-08-06T19:27:43.073520Z",
     "shell.execute_reply": "2025-08-06T19:27:43.073272Z"
    }
   },
   "outputs": [
    {
     "data": {
      "text/html": [
       "<div>\n",
       "<style scoped>\n",
       "    .dataframe tbody tr th:only-of-type {\n",
       "        vertical-align: middle;\n",
       "    }\n",
       "\n",
       "    .dataframe tbody tr th {\n",
       "        vertical-align: top;\n",
       "    }\n",
       "\n",
       "    .dataframe thead th {\n",
       "        text-align: right;\n",
       "    }\n",
       "</style>\n",
       "<table border=\"1\" class=\"dataframe\">\n",
       "  <thead>\n",
       "    <tr style=\"text-align: right;\">\n",
       "      <th></th>\n",
       "      <th>Emotions</th>\n",
       "      <th>Path</th>\n",
       "    </tr>\n",
       "  </thead>\n",
       "  <tbody>\n",
       "    <tr>\n",
       "      <th>0</th>\n",
       "      <td>happy</td>\n",
       "      <td>dataset/surrey-audiovisual-expressed-emotion-s...</td>\n",
       "    </tr>\n",
       "    <tr>\n",
       "      <th>1</th>\n",
       "      <td>disgust</td>\n",
       "      <td>dataset/surrey-audiovisual-expressed-emotion-s...</td>\n",
       "    </tr>\n",
       "    <tr>\n",
       "      <th>2</th>\n",
       "      <td>happy</td>\n",
       "      <td>dataset/surrey-audiovisual-expressed-emotion-s...</td>\n",
       "    </tr>\n",
       "    <tr>\n",
       "      <th>3</th>\n",
       "      <td>surprise</td>\n",
       "      <td>dataset/surrey-audiovisual-expressed-emotion-s...</td>\n",
       "    </tr>\n",
       "    <tr>\n",
       "      <th>4</th>\n",
       "      <td>fear</td>\n",
       "      <td>dataset/surrey-audiovisual-expressed-emotion-s...</td>\n",
       "    </tr>\n",
       "  </tbody>\n",
       "</table>\n",
       "</div>"
      ],
      "text/plain": [
       "   Emotions                                               Path\n",
       "0     happy  dataset/surrey-audiovisual-expressed-emotion-s...\n",
       "1   disgust  dataset/surrey-audiovisual-expressed-emotion-s...\n",
       "2     happy  dataset/surrey-audiovisual-expressed-emotion-s...\n",
       "3  surprise  dataset/surrey-audiovisual-expressed-emotion-s...\n",
       "4      fear  dataset/surrey-audiovisual-expressed-emotion-s..."
      ]
     },
     "execution_count": 7,
     "metadata": {},
     "output_type": "execute_result"
    }
   ],
   "source": [
    "# List all files in the SAVEE dataset\n",
    "savee_directory_list = os.listdir(Savee)\n",
    "\n",
    "file_emotion = []  # To store emotion labels\n",
    "file_path = []  # To store file paths\n",
    "\n",
    "# Iterate through each file and extract file paths and emotions\n",
    "for file in savee_directory_list:\n",
    "    file_path.append(Savee + file)  # Store full file path\n",
    "    part = file.split('_')[1]  # Extract the emotion code from the file name\n",
    "    ele = part[:-6]  # Remove the last 6 characters to isolate the emotion code\n",
    "    # Map emotion codes to corresponding emotion labels\n",
    "    if ele == 'a':\n",
    "        file_emotion.append('angry')\n",
    "    elif ele == 'd':\n",
    "        file_emotion.append('disgust')\n",
    "    elif ele == 'f':\n",
    "        file_emotion.append('fear')\n",
    "    elif ele == 'h':\n",
    "        file_emotion.append('happy')\n",
    "    elif ele == 'n':\n",
    "        file_emotion.append('neutral')\n",
    "    elif ele == 'sa':\n",
    "        file_emotion.append('sad')\n",
    "    else:\n",
    "        file_emotion.append('surprise')\n",
    "\n",
    "# Create DataFrames for emotions and file paths\n",
    "emotion_df = pd.DataFrame(file_emotion, columns=['Emotions'])\n",
    "path_df = pd.DataFrame(file_path, columns=['Path'])\n",
    "\n",
    "# Combine emotion and path DataFrames\n",
    "Savee_df = pd.concat([emotion_df, path_df], axis=1)\n",
    "\n",
    "# Display the first few rows of the DataFrame\n",
    "Savee_df.head()\n"
   ]
  },
  {
   "cell_type": "code",
   "execution_count": 8,
   "id": "940362bb-ddf6-460d-9a2b-1a4fc2136063",
   "metadata": {
    "execution": {
     "iopub.execute_input": "2025-08-06T19:27:43.074500Z",
     "iopub.status.busy": "2025-08-06T19:27:43.074387Z",
     "iopub.status.idle": "2025-08-06T19:27:43.087516Z",
     "shell.execute_reply": "2025-08-06T19:27:43.087276Z"
    }
   },
   "outputs": [
    {
     "data": {
      "text/html": [
       "<div>\n",
       "<style scoped>\n",
       "    .dataframe tbody tr th:only-of-type {\n",
       "        vertical-align: middle;\n",
       "    }\n",
       "\n",
       "    .dataframe tbody tr th {\n",
       "        vertical-align: top;\n",
       "    }\n",
       "\n",
       "    .dataframe thead th {\n",
       "        text-align: right;\n",
       "    }\n",
       "</style>\n",
       "<table border=\"1\" class=\"dataframe\">\n",
       "  <thead>\n",
       "    <tr style=\"text-align: right;\">\n",
       "      <th></th>\n",
       "      <th>Emotions</th>\n",
       "      <th>Path</th>\n",
       "    </tr>\n",
       "  </thead>\n",
       "  <tbody>\n",
       "    <tr>\n",
       "      <th>0</th>\n",
       "      <td>neutral</td>\n",
       "      <td>dataset/ravdess-emotional-speech-audio/audio_s...</td>\n",
       "    </tr>\n",
       "    <tr>\n",
       "      <th>1</th>\n",
       "      <td>sad</td>\n",
       "      <td>dataset/ravdess-emotional-speech-audio/audio_s...</td>\n",
       "    </tr>\n",
       "    <tr>\n",
       "      <th>2</th>\n",
       "      <td>happy</td>\n",
       "      <td>dataset/ravdess-emotional-speech-audio/audio_s...</td>\n",
       "    </tr>\n",
       "    <tr>\n",
       "      <th>3</th>\n",
       "      <td>happy</td>\n",
       "      <td>dataset/ravdess-emotional-speech-audio/audio_s...</td>\n",
       "    </tr>\n",
       "    <tr>\n",
       "      <th>4</th>\n",
       "      <td>calm</td>\n",
       "      <td>dataset/ravdess-emotional-speech-audio/audio_s...</td>\n",
       "    </tr>\n",
       "  </tbody>\n",
       "</table>\n",
       "</div>"
      ],
      "text/plain": [
       "  Emotions                                               Path\n",
       "0  neutral  dataset/ravdess-emotional-speech-audio/audio_s...\n",
       "1      sad  dataset/ravdess-emotional-speech-audio/audio_s...\n",
       "2    happy  dataset/ravdess-emotional-speech-audio/audio_s...\n",
       "3    happy  dataset/ravdess-emotional-speech-audio/audio_s...\n",
       "4     calm  dataset/ravdess-emotional-speech-audio/audio_s..."
      ]
     },
     "execution_count": 8,
     "metadata": {},
     "output_type": "execute_result"
    }
   ],
   "source": [
    "# Combine all the individual DataFrames (RAVDESS, CREMA-D, TESS, SAVEE) into a single DataFrame\n",
    "data_path = pd.concat([Ravdess_df, Crema_df, Tess_df, Savee_df], axis=0)\n",
    "\n",
    "# Save the combined DataFrame to a CSV file for future use\n",
    "data_path.to_csv(\"data_path.csv\", index=False)\n",
    "\n",
    "# Display the first few rows of the combined DataFrame\n",
    "data_path.head()\n"
   ]
  },
  {
   "cell_type": "code",
   "execution_count": 9,
   "id": "dd91461e-2794-4571-8d7c-c0ab56080236",
   "metadata": {
    "execution": {
     "iopub.execute_input": "2025-08-06T19:27:43.088446Z",
     "iopub.status.busy": "2025-08-06T19:27:43.088339Z",
     "iopub.status.idle": "2025-08-06T19:27:43.173317Z",
     "shell.execute_reply": "2025-08-06T19:27:43.173015Z"
    }
   },
   "outputs": [
    {
     "data": {
      "image/png": "[encoded data removed]",
      "text/plain": [
       "<Figure size 640x480 with 1 Axes>"
      ]
     },
     "metadata": {},
     "output_type": "display_data"
    }
   ],
   "source": [
    "# Set the title of the plot with a larger font and bold styling\n",
    "plt.title('Count of Emotions', size=16, weight='bold')\n",
    "\n",
    "# Create a count plot for the 'Emotions' column with a custom color palette\n",
    "sns.countplot(data_path.Emotions, palette='Set2', edgecolor='black')\n",
    "\n",
    "# Label the axes with a larger font size and bold styling\n",
    "plt.ylabel('Count', size=12, weight='bold')\n",
    "plt.xlabel('Emotions', size=12, weight='bold')\n",
    "\n",
    "# Customize the ticks for better readability\n",
    "plt.xticks(rotation=45, ha='right', size=10)\n",
    "\n",
    "# Remove the top and right spines for a cleaner look\n",
    "sns.despine(top=True, right=True, left=False, bottom=False)\n",
    "\n",
    "# Add gridlines to the background for better visibility of the counts\n",
    "plt.grid(axis='y', linestyle='--', alpha=0.7)\n",
    "\n",
    "# Display the plot\n",
    "plt.tight_layout()  # Adjust the plot to ensure everything fits\n",
    "plt.show()"
   ]
  },
  {
   "cell_type": "code",
   "execution_count": null,
   "id": "699cd055-d2b3-44d1-812a-fb69f52901bd",
   "metadata": {
    "execution": {
     "iopub.execute_input": "2025-08-06T19:27:43.174387Z",
     "iopub.status.busy": "2025-08-06T19:27:43.174279Z",
     "iopub.status.idle": "2025-08-06T19:27:43.177284Z",
     "shell.execute_reply": "2025-08-06T19:27:43.176988Z"
    }
   },
   "outputs": [],
   "source": "# Function to create a waveplot for the audio data\ndef create_waveplot(data, sr, e):\n    # Set the figure size for the waveplot\n    plt.figure(figsize=(10, 3))\n    # Set the title for the plot, displaying the emotion associated with the audio\n    plt.title('Waveplot for audio with {} emotion'.format(e), size=15)\n    # Display the waveplot using librosa's waveshow function with explicit parameters\n    try:\n        librosa.display.waveshow(y=data, sr=sr)\n    except AttributeError:\n        # Fallback to basic matplotlib plot if librosa.display.waveshow fails\n        time_axis = librosa.frames_to_time(np.arange(len(data)), sr=sr)\n        plt.plot(time_axis, data)\n        plt.xlabel('Time (s)')\n        plt.ylabel('Amplitude')\n    # Show the plot\n    plt.show()\n\n# Function to create a spectrogram for the audio data\ndef create_spectrogram(data, sr, e):\n    # Convert the audio data into a Short-Time Fourier Transform (STFT)\n    X = librosa.stft(data)\n    # Convert the amplitude of the STFT to decibels (dB)\n    Xdb = librosa.amplitude_to_db(abs(X))\n    \n    # Set the figure size for the spectrogram\n    plt.figure(figsize=(12, 3))\n    # Set the title for the plot, displaying the emotion associated with the audio\n    plt.title('Spectrogram for audio with {} emotion'.format(e), size=15)\n    \n    # Display the spectrogram using librosa's specshow function\n    try:\n        librosa.display.specshow(Xdb, sr=sr, x_axis='time', y_axis='hz')\n        # Display the colorbar for the spectrogram to represent dB values\n        plt.colorbar(format='%+2.0f dB')\n    except AttributeError:\n        # Fallback to basic matplotlib imshow if librosa.display.specshow fails\n        plt.imshow(Xdb, aspect='auto', origin='lower', \n                   extent=[0, len(data)/sr, 0, sr/2])\n        plt.xlabel('Time (s)')\n        plt.ylabel('Frequency (Hz)')\n        plt.colorbar(format='%+2.0f dB')\n    \n    # Show the plot\n    plt.show()"
  },
  {
   "cell_type": "code",
   "execution_count": 11,
   "id": "d9fe6b53-a3bf-4023-82c5-3924ea7843b0",
   "metadata": {
    "execution": {
     "iopub.execute_input": "2025-08-06T19:27:43.178271Z",
     "iopub.status.busy": "2025-08-06T19:27:43.178164Z",
     "iopub.status.idle": "2025-08-06T19:27:43.190545Z",
     "shell.execute_reply": "2025-08-06T19:27:43.190243Z"
    }
   },
   "outputs": [
    {
     "ename": "AttributeError",
     "evalue": "'_process_plot_var_args' object has no attribute 'prop_cycler'",
     "output_type": "error",
     "traceback": [
      "\u001b[0;31m---------------------------------------------------------------------------\u001b[0m",
      "\u001b[0;31mAttributeError\u001b[0m                            Traceback (most recent call last)",
      "Cell \u001b[0;32mIn[11], line 11\u001b[0m\n\u001b[1;32m      8\u001b[0m data, sampling_rate \u001b[38;5;241m=\u001b[39m librosa\u001b[38;5;241m.\u001b[39mload(path)\n\u001b[1;32m     10\u001b[0m \u001b[38;5;66;03m# Create a waveplot for the audio\u001b[39;00m\n\u001b[0;32m---> 11\u001b[0m create_waveplot(data, sampling_rate, emotion)\n\u001b[1;32m     13\u001b[0m \u001b[38;5;66;03m# Create a spectrogram for the audio\u001b[39;00m\n\u001b[1;32m     14\u001b[0m create_spectrogram(data, sampling_rate, emotion)\n",
      "Cell \u001b[0;32mIn[10], line 8\u001b[0m, in \u001b[0;36mcreate_waveplot\u001b[0;34m(data, sr, e)\u001b[0m\n\u001b[1;32m      6\u001b[0m plt\u001b[38;5;241m.\u001b[39mtitle(\u001b[38;5;124m'\u001b[39m\u001b[38;5;124mWaveplot for audio with \u001b[39m\u001b[38;5;132;01m{}\u001b[39;00m\u001b[38;5;124m emotion\u001b[39m\u001b[38;5;124m'\u001b[39m\u001b[38;5;241m.\u001b[39mformat(e), size\u001b[38;5;241m=\u001b[39m\u001b[38;5;241m15\u001b[39m)\n\u001b[1;32m      7\u001b[0m \u001b[38;5;66;03m# Display the waveplot using librosa's waveshow function\u001b[39;00m\n\u001b[0;32m----> 8\u001b[0m librosa\u001b[38;5;241m.\u001b[39mdisplay\u001b[38;5;241m.\u001b[39mwaveshow(data, sr\u001b[38;5;241m=\u001b[39msr)\n\u001b[1;32m      9\u001b[0m \u001b[38;5;66;03m# Show the plot\u001b[39;00m\n\u001b[1;32m     10\u001b[0m plt\u001b[38;5;241m.\u001b[39mshow()\n",
      "File \u001b[0;32m~/anaconda3/lib/python3.11/site-packages/librosa/util/decorators.py:88\u001b[0m, in \u001b[0;36mdeprecate_positional_args.<locals>._inner_deprecate_positional_args.<locals>.inner_f\u001b[0;34m(*args, **kwargs)\u001b[0m\n\u001b[1;32m     86\u001b[0m extra_args \u001b[38;5;241m=\u001b[39m \u001b[38;5;28mlen\u001b[39m(args) \u001b[38;5;241m-\u001b[39m \u001b[38;5;28mlen\u001b[39m(all_args)\n\u001b[1;32m     87\u001b[0m \u001b[38;5;28;01mif\u001b[39;00m extra_args \u001b[38;5;241m<\u001b[39m\u001b[38;5;241m=\u001b[39m \u001b[38;5;241m0\u001b[39m:\n\u001b[0;32m---> 88\u001b[0m     \u001b[38;5;28;01mreturn\u001b[39;00m f(\u001b[38;5;241m*\u001b[39margs, \u001b[38;5;241m*\u001b[39m\u001b[38;5;241m*\u001b[39mkwargs)\n\u001b[1;32m     90\u001b[0m \u001b[38;5;66;03m# extra_args > 0\u001b[39;00m\n\u001b[1;32m     91\u001b[0m args_msg \u001b[38;5;241m=\u001b[39m [\n\u001b[1;32m     92\u001b[0m     \u001b[38;5;124m\"\u001b[39m\u001b[38;5;132;01m{}\u001b[39;00m\u001b[38;5;124m=\u001b[39m\u001b[38;5;132;01m{}\u001b[39;00m\u001b[38;5;124m\"\u001b[39m\u001b[38;5;241m.\u001b[39mformat(name, arg)\n\u001b[1;32m     93\u001b[0m     \u001b[38;5;28;01mfor\u001b[39;00m name, arg \u001b[38;5;129;01min\u001b[39;00m \u001b[38;5;28mzip\u001b[39m(kwonly_args[:extra_args], args[\u001b[38;5;241m-\u001b[39mextra_args:])\n\u001b[1;32m     94\u001b[0m ]\n",
      "File \u001b[0;32m~/anaconda3/lib/python3.11/site-packages/librosa/display.py:1455\u001b[0m, in \u001b[0;36mwaveshow\u001b[0;34m(y, sr, max_points, x_axis, offset, marker, where, label, ax, **kwargs)\u001b[0m\n\u001b[1;32m   1452\u001b[0m axes \u001b[38;5;241m=\u001b[39m __check_axes(ax)\n\u001b[1;32m   1454\u001b[0m \u001b[38;5;28;01mif\u001b[39;00m \u001b[38;5;124m\"\u001b[39m\u001b[38;5;124mcolor\u001b[39m\u001b[38;5;124m\"\u001b[39m \u001b[38;5;129;01mnot\u001b[39;00m \u001b[38;5;129;01min\u001b[39;00m kwargs:\n\u001b[0;32m-> 1455\u001b[0m     kwargs\u001b[38;5;241m.\u001b[39msetdefault(\u001b[38;5;124m\"\u001b[39m\u001b[38;5;124mcolor\u001b[39m\u001b[38;5;124m\"\u001b[39m, \u001b[38;5;28mnext\u001b[39m(axes\u001b[38;5;241m.\u001b[39m_get_lines\u001b[38;5;241m.\u001b[39mprop_cycler)[\u001b[38;5;124m\"\u001b[39m\u001b[38;5;124mcolor\u001b[39m\u001b[38;5;124m\"\u001b[39m])\n\u001b[1;32m   1457\u001b[0m \u001b[38;5;66;03m# Reduce by envelope calculation\u001b[39;00m\n\u001b[1;32m   1458\u001b[0m \u001b[38;5;66;03m# this choice of hop ensures that the envelope has at most max_points values\u001b[39;00m\n\u001b[1;32m   1459\u001b[0m hop_length \u001b[38;5;241m=\u001b[39m \u001b[38;5;28mmax\u001b[39m(\u001b[38;5;241m1\u001b[39m, y\u001b[38;5;241m.\u001b[39mshape[\u001b[38;5;241m-\u001b[39m\u001b[38;5;241m1\u001b[39m] \u001b[38;5;241m/\u001b[39m\u001b[38;5;241m/\u001b[39m max_points)\n",
      "\u001b[0;31mAttributeError\u001b[0m: '_process_plot_var_args' object has no attribute 'prop_cycler'"
     ]
    },
    {
     "data": {
      "image/png": "[encoded data removed]",
      "text/plain": [
       "<Figure size 1000x300 with 1 Axes>"
      ]
     },
     "metadata": {},
     "output_type": "display_data"
    }
   ],
   "source": [
    "# Set the emotion to visualize (e.g., 'fear')\n",
    "emotion = 'fear'\n",
    "\n",
    "# Get the file path for the specified emotion\n",
    "path = np.array(data_path.Path[data_path.Emotions == emotion])[1]\n",
    "\n",
    "# Load the audio file and get the data and sample rate\n",
    "data, sampling_rate = librosa.load(path)\n",
    "\n",
    "# Create a waveplot for the audio\n",
    "create_waveplot(data, sampling_rate, emotion)\n",
    "\n",
    "# Create a spectrogram for the audio\n",
    "create_spectrogram(data, sampling_rate, emotion)\n",
    "\n",
    "# Play the audio from the file path\n",
    "Audio(path)\n"
   ]
  },
  {
   "cell_type": "code",
   "execution_count": null,
   "id": "4d29b316-6e86-456f-a54c-003551f7e92b",
   "metadata": {
    "execution": {
     "iopub.execute_input": "2025-08-06T19:27:43.191537Z",
     "iopub.status.busy": "2025-08-06T19:27:43.191426Z",
     "iopub.status.idle": "2025-08-06T19:27:43.202620Z",
     "shell.execute_reply": "2025-08-06T19:27:43.202315Z"
    }
   },
   "outputs": [],
   "source": [
    "# Set the emotion to visualize (e.g., 'angry')\n",
    "emotion = 'angry'\n",
    "\n",
    "# Get the file path for the specified emotion\n",
    "path = np.array(data_path.Path[data_path.Emotions == emotion])[1]\n",
    "\n",
    "# Load the audio file and get the data and sample rate\n",
    "data, sampling_rate = librosa.load(path)\n",
    "\n",
    "# Create a waveplot for the audio\n",
    "create_waveplot(data, sampling_rate, emotion)\n",
    "\n",
    "# Create a spectrogram for the audio\n",
    "create_spectrogram(data, sampling_rate, emotion)\n",
    "\n",
    "# Play the audio from the file path\n",
    "Audio(path)\n"
   ]
  },
  {
   "cell_type": "code",
   "execution_count": 12,
   "id": "06189374-2380-4d78-b249-d8e0710d9a50",
   "metadata": {
    "execution": {
     "iopub.execute_input": "2025-08-06T19:27:43.203573Z",
     "iopub.status.busy": "2025-08-06T19:27:43.203471Z",
     "iopub.status.idle": "2025-08-06T19:27:43.214352Z",
     "shell.execute_reply": "2025-08-06T19:27:43.214053Z"
    }
   },
   "outputs": [
    {
     "ename": "AttributeError",
     "evalue": "'_process_plot_var_args' object has no attribute 'prop_cycler'",
     "output_type": "error",
     "traceback": [
      "\u001b[0;31m---------------------------------------------------------------------------\u001b[0m",
      "\u001b[0;31mAttributeError\u001b[0m                            Traceback (most recent call last)",
      "Cell \u001b[0;32mIn[12], line 11\u001b[0m\n\u001b[1;32m      8\u001b[0m data, sampling_rate \u001b[38;5;241m=\u001b[39m librosa\u001b[38;5;241m.\u001b[39mload(path)\n\u001b[1;32m     10\u001b[0m \u001b[38;5;66;03m# Create a waveplot for the audio\u001b[39;00m\n\u001b[0;32m---> 11\u001b[0m create_waveplot(data, sampling_rate, emotion)\n\u001b[1;32m     13\u001b[0m \u001b[38;5;66;03m# Create a spectrogram for the audio\u001b[39;00m\n\u001b[1;32m     14\u001b[0m create_spectrogram(data, sampling_rate, emotion)\n",
      "Cell \u001b[0;32mIn[10], line 8\u001b[0m, in \u001b[0;36mcreate_waveplot\u001b[0;34m(data, sr, e)\u001b[0m\n\u001b[1;32m      6\u001b[0m plt\u001b[38;5;241m.\u001b[39mtitle(\u001b[38;5;124m'\u001b[39m\u001b[38;5;124mWaveplot for audio with \u001b[39m\u001b[38;5;132;01m{}\u001b[39;00m\u001b[38;5;124m emotion\u001b[39m\u001b[38;5;124m'\u001b[39m\u001b[38;5;241m.\u001b[39mformat(e), size\u001b[38;5;241m=\u001b[39m\u001b[38;5;241m15\u001b[39m)\n\u001b[1;32m      7\u001b[0m \u001b[38;5;66;03m# Display the waveplot using librosa's waveshow function\u001b[39;00m\n\u001b[0;32m----> 8\u001b[0m librosa\u001b[38;5;241m.\u001b[39mdisplay\u001b[38;5;241m.\u001b[39mwaveshow(data, sr\u001b[38;5;241m=\u001b[39msr)\n\u001b[1;32m      9\u001b[0m \u001b[38;5;66;03m# Show the plot\u001b[39;00m\n\u001b[1;32m     10\u001b[0m plt\u001b[38;5;241m.\u001b[39mshow()\n",
      "File \u001b[0;32m~/anaconda3/lib/python3.11/site-packages/librosa/util/decorators.py:88\u001b[0m, in \u001b[0;36mdeprecate_positional_args.<locals>._inner_deprecate_positional_args.<locals>.inner_f\u001b[0;34m(*args, **kwargs)\u001b[0m\n\u001b[1;32m     86\u001b[0m extra_args \u001b[38;5;241m=\u001b[39m \u001b[38;5;28mlen\u001b[39m(args) \u001b[38;5;241m-\u001b[39m \u001b[38;5;28mlen\u001b[39m(all_args)\n\u001b[1;32m     87\u001b[0m \u001b[38;5;28;01mif\u001b[39;00m extra_args \u001b[38;5;241m<\u001b[39m\u001b[38;5;241m=\u001b[39m \u001b[38;5;241m0\u001b[39m:\n\u001b[0;32m---> 88\u001b[0m     \u001b[38;5;28;01mreturn\u001b[39;00m f(\u001b[38;5;241m*\u001b[39margs, \u001b[38;5;241m*\u001b[39m\u001b[38;5;241m*\u001b[39mkwargs)\n\u001b[1;32m     90\u001b[0m \u001b[38;5;66;03m# extra_args > 0\u001b[39;00m\n\u001b[1;32m     91\u001b[0m args_msg \u001b[38;5;241m=\u001b[39m [\n\u001b[1;32m     92\u001b[0m     \u001b[38;5;124m\"\u001b[39m\u001b[38;5;132;01m{}\u001b[39;00m\u001b[38;5;124m=\u001b[39m\u001b[38;5;132;01m{}\u001b[39;00m\u001b[38;5;124m\"\u001b[39m\u001b[38;5;241m.\u001b[39mformat(name, arg)\n\u001b[1;32m     93\u001b[0m     \u001b[38;5;28;01mfor\u001b[39;00m name, arg \u001b[38;5;129;01min\u001b[39;00m \u001b[38;5;28mzip\u001b[39m(kwonly_args[:extra_args], args[\u001b[38;5;241m-\u001b[39mextra_args:])\n\u001b[1;32m     94\u001b[0m ]\n",
      "File \u001b[0;32m~/anaconda3/lib/python3.11/site-packages/librosa/display.py:1455\u001b[0m, in \u001b[0;36mwaveshow\u001b[0;34m(y, sr, max_points, x_axis, offset, marker, where, label, ax, **kwargs)\u001b[0m\n\u001b[1;32m   1452\u001b[0m axes \u001b[38;5;241m=\u001b[39m __check_axes(ax)\n\u001b[1;32m   1454\u001b[0m \u001b[38;5;28;01mif\u001b[39;00m \u001b[38;5;124m\"\u001b[39m\u001b[38;5;124mcolor\u001b[39m\u001b[38;5;124m\"\u001b[39m \u001b[38;5;129;01mnot\u001b[39;00m \u001b[38;5;129;01min\u001b[39;00m kwargs:\n\u001b[0;32m-> 1455\u001b[0m     kwargs\u001b[38;5;241m.\u001b[39msetdefault(\u001b[38;5;124m\"\u001b[39m\u001b[38;5;124mcolor\u001b[39m\u001b[38;5;124m\"\u001b[39m, \u001b[38;5;28mnext\u001b[39m(axes\u001b[38;5;241m.\u001b[39m_get_lines\u001b[38;5;241m.\u001b[39mprop_cycler)[\u001b[38;5;124m\"\u001b[39m\u001b[38;5;124mcolor\u001b[39m\u001b[38;5;124m\"\u001b[39m])\n\u001b[1;32m   1457\u001b[0m \u001b[38;5;66;03m# Reduce by envelope calculation\u001b[39;00m\n\u001b[1;32m   1458\u001b[0m \u001b[38;5;66;03m# this choice of hop ensures that the envelope has at most max_points values\u001b[39;00m\n\u001b[1;32m   1459\u001b[0m hop_length \u001b[38;5;241m=\u001b[39m \u001b[38;5;28mmax\u001b[39m(\u001b[38;5;241m1\u001b[39m, y\u001b[38;5;241m.\u001b[39mshape[\u001b[38;5;241m-\u001b[39m\u001b[38;5;241m1\u001b[39m] \u001b[38;5;241m/\u001b[39m\u001b[38;5;241m/\u001b[39m max_points)\n",
      "\u001b[0;31mAttributeError\u001b[0m: '_process_plot_var_args' object has no attribute 'prop_cycler'"
     ]
    },
    {
     "data": {
      "image/png": "[encoded data removed]",
      "text/plain": [
       "<Figure size 1000x300 with 1 Axes>"
      ]
     },
     "metadata": {},
     "output_type": "display_data"
    }
   ],
   "source": [
    "# Set the emotion to visualize (e.g., 'sad')\n",
    "emotion = 'sad'\n",
    "\n",
    "# Get the file path for the specified emotion\n",
    "path = np.array(data_path.Path[data_path.Emotions == emotion])[1]\n",
    "\n",
    "# Load the audio file and get the data and sample rate\n",
    "data, sampling_rate = librosa.load(path)\n",
    "\n",
    "# Create a waveplot for the audio\n",
    "create_waveplot(data, sampling_rate, emotion)\n",
    "\n",
    "# Create a spectrogram for the audio\n",
    "create_spectrogram(data, sampling_rate, emotion)\n",
    "\n",
    "# Play the audio from the file path\n",
    "Audio(path)\n"
   ]
  },
  {
   "cell_type": "code",
   "execution_count": 13,
   "id": "ed3606d7-9a5b-4eb3-b443-52c7195abdc7",
   "metadata": {
    "execution": {
     "iopub.execute_input": "2025-08-06T19:27:43.215259Z",
     "iopub.status.busy": "2025-08-06T19:27:43.215157Z",
     "iopub.status.idle": "2025-08-06T19:27:43.226092Z",
     "shell.execute_reply": "2025-08-06T19:27:43.225806Z"
    }
   },
   "outputs": [
    {
     "ename": "AttributeError",
     "evalue": "'_process_plot_var_args' object has no attribute 'prop_cycler'",
     "output_type": "error",
     "traceback": [
      "\u001b[0;31m---------------------------------------------------------------------------\u001b[0m",
      "\u001b[0;31mAttributeError\u001b[0m                            Traceback (most recent call last)",
      "Cell \u001b[0;32mIn[13], line 11\u001b[0m\n\u001b[1;32m      8\u001b[0m data, sampling_rate \u001b[38;5;241m=\u001b[39m librosa\u001b[38;5;241m.\u001b[39mload(path)\n\u001b[1;32m     10\u001b[0m \u001b[38;5;66;03m# Create a waveplot for the audio\u001b[39;00m\n\u001b[0;32m---> 11\u001b[0m create_waveplot(data, sampling_rate, emotion)\n\u001b[1;32m     13\u001b[0m \u001b[38;5;66;03m# Create a spectrogram for the audio\u001b[39;00m\n\u001b[1;32m     14\u001b[0m create_spectrogram(data, sampling_rate, emotion)\n",
      "Cell \u001b[0;32mIn[10], line 8\u001b[0m, in \u001b[0;36mcreate_waveplot\u001b[0;34m(data, sr, e)\u001b[0m\n\u001b[1;32m      6\u001b[0m plt\u001b[38;5;241m.\u001b[39mtitle(\u001b[38;5;124m'\u001b[39m\u001b[38;5;124mWaveplot for audio with \u001b[39m\u001b[38;5;132;01m{}\u001b[39;00m\u001b[38;5;124m emotion\u001b[39m\u001b[38;5;124m'\u001b[39m\u001b[38;5;241m.\u001b[39mformat(e), size\u001b[38;5;241m=\u001b[39m\u001b[38;5;241m15\u001b[39m)\n\u001b[1;32m      7\u001b[0m \u001b[38;5;66;03m# Display the waveplot using librosa's waveshow function\u001b[39;00m\n\u001b[0;32m----> 8\u001b[0m librosa\u001b[38;5;241m.\u001b[39mdisplay\u001b[38;5;241m.\u001b[39mwaveshow(data, sr\u001b[38;5;241m=\u001b[39msr)\n\u001b[1;32m      9\u001b[0m \u001b[38;5;66;03m# Show the plot\u001b[39;00m\n\u001b[1;32m     10\u001b[0m plt\u001b[38;5;241m.\u001b[39mshow()\n",
      "File \u001b[0;32m~/anaconda3/lib/python3.11/site-packages/librosa/util/decorators.py:88\u001b[0m, in \u001b[0;36mdeprecate_positional_args.<locals>._inner_deprecate_positional_args.<locals>.inner_f\u001b[0;34m(*args, **kwargs)\u001b[0m\n\u001b[1;32m     86\u001b[0m extra_args \u001b[38;5;241m=\u001b[39m \u001b[38;5;28mlen\u001b[39m(args) \u001b[38;5;241m-\u001b[39m \u001b[38;5;28mlen\u001b[39m(all_args)\n\u001b[1;32m     87\u001b[0m \u001b[38;5;28;01mif\u001b[39;00m extra_args \u001b[38;5;241m<\u001b[39m\u001b[38;5;241m=\u001b[39m \u001b[38;5;241m0\u001b[39m:\n\u001b[0;32m---> 88\u001b[0m     \u001b[38;5;28;01mreturn\u001b[39;00m f(\u001b[38;5;241m*\u001b[39margs, \u001b[38;5;241m*\u001b[39m\u001b[38;5;241m*\u001b[39mkwargs)\n\u001b[1;32m     90\u001b[0m \u001b[38;5;66;03m# extra_args > 0\u001b[39;00m\n\u001b[1;32m     91\u001b[0m args_msg \u001b[38;5;241m=\u001b[39m [\n\u001b[1;32m     92\u001b[0m     \u001b[38;5;124m\"\u001b[39m\u001b[38;5;132;01m{}\u001b[39;00m\u001b[38;5;124m=\u001b[39m\u001b[38;5;132;01m{}\u001b[39;00m\u001b[38;5;124m\"\u001b[39m\u001b[38;5;241m.\u001b[39mformat(name, arg)\n\u001b[1;32m     93\u001b[0m     \u001b[38;5;28;01mfor\u001b[39;00m name, arg \u001b[38;5;129;01min\u001b[39;00m \u001b[38;5;28mzip\u001b[39m(kwonly_args[:extra_args], args[\u001b[38;5;241m-\u001b[39mextra_args:])\n\u001b[1;32m     94\u001b[0m ]\n",
      "File \u001b[0;32m~/anaconda3/lib/python3.11/site-packages/librosa/display.py:1455\u001b[0m, in \u001b[0;36mwaveshow\u001b[0;34m(y, sr, max_points, x_axis, offset, marker, where, label, ax, **kwargs)\u001b[0m\n\u001b[1;32m   1452\u001b[0m axes \u001b[38;5;241m=\u001b[39m __check_axes(ax)\n\u001b[1;32m   1454\u001b[0m \u001b[38;5;28;01mif\u001b[39;00m \u001b[38;5;124m\"\u001b[39m\u001b[38;5;124mcolor\u001b[39m\u001b[38;5;124m\"\u001b[39m \u001b[38;5;129;01mnot\u001b[39;00m \u001b[38;5;129;01min\u001b[39;00m kwargs:\n\u001b[0;32m-> 1455\u001b[0m     kwargs\u001b[38;5;241m.\u001b[39msetdefault(\u001b[38;5;124m\"\u001b[39m\u001b[38;5;124mcolor\u001b[39m\u001b[38;5;124m\"\u001b[39m, \u001b[38;5;28mnext\u001b[39m(axes\u001b[38;5;241m.\u001b[39m_get_lines\u001b[38;5;241m.\u001b[39mprop_cycler)[\u001b[38;5;124m\"\u001b[39m\u001b[38;5;124mcolor\u001b[39m\u001b[38;5;124m\"\u001b[39m])\n\u001b[1;32m   1457\u001b[0m \u001b[38;5;66;03m# Reduce by envelope calculation\u001b[39;00m\n\u001b[1;32m   1458\u001b[0m \u001b[38;5;66;03m# this choice of hop ensures that the envelope has at most max_points values\u001b[39;00m\n\u001b[1;32m   1459\u001b[0m hop_length \u001b[38;5;241m=\u001b[39m \u001b[38;5;28mmax\u001b[39m(\u001b[38;5;241m1\u001b[39m, y\u001b[38;5;241m.\u001b[39mshape[\u001b[38;5;241m-\u001b[39m\u001b[38;5;241m1\u001b[39m] \u001b[38;5;241m/\u001b[39m\u001b[38;5;241m/\u001b[39m max_points)\n",
      "\u001b[0;31mAttributeError\u001b[0m: '_process_plot_var_args' object has no attribute 'prop_cycler'"
     ]
    },
    {
     "data": {
      "image/png": "[encoded data removed]",
      "text/plain": [
       "<Figure size 1000x300 with 1 Axes>"
      ]
     },
     "metadata": {},
     "output_type": "display_data"
    }
   ],
   "source": [
    "# Set the emotion to visualize (e.g., 'happy')\n",
    "emotion = 'happy'\n",
    "\n",
    "# Get the file path for the specified emotion\n",
    "path = np.array(data_path.Path[data_path.Emotions == emotion])[1]\n",
    "\n",
    "# Load the audio file and get the data and sample rate\n",
    "data, sampling_rate = librosa.load(path)\n",
    "\n",
    "# Create a waveplot for the audio\n",
    "create_waveplot(data, sampling_rate, emotion)\n",
    "\n",
    "# Create a spectrogram for the audio\n",
    "create_spectrogram(data, sampling_rate, emotion)\n",
    "\n",
    "# Play the audio from the file path\n",
    "Audio(path)\n"
   ]
  },
  {
   "cell_type": "code",
   "execution_count": 14,
   "id": "67ed09f0-db61-4b0a-88c1-dae20466aa14",
   "metadata": {
    "execution": {
     "iopub.execute_input": "2025-08-06T19:27:43.227052Z",
     "iopub.status.busy": "2025-08-06T19:27:43.226950Z",
     "iopub.status.idle": "2025-08-06T19:27:43.240199Z",
     "shell.execute_reply": "2025-08-06T19:27:43.239912Z"
    }
   },
   "outputs": [],
   "source": [
    "# Function to add random noise to the audio data\n",
    "def noise(data):\n",
    "    # Generate a random amplitude for the noise\n",
    "    noise_amp = 0.035 * np.random.uniform() * np.amax(data)\n",
    "    # Add Gaussian noise to the audio data\n",
    "    data = data + noise_amp * np.random.normal(size=data.shape[0])\n",
    "    return data\n",
    "\n",
    "# Function to stretch the audio data in time\n",
    "def stretch(data, rate=0.8):\n",
    "    return librosa.effects.time_stretch(data, rate=rate)\n",
    "\n",
    "# Function to randomly shift the audio data\n",
    "def shift(data):\n",
    "    # Randomly choose a shift range between -5 to 5 seconds, converted to samples\n",
    "    shift_range = int(np.random.uniform(low=-5, high=5) * 1000)\n",
    "    return np.roll(data, shift_range)\n",
    "\n",
    "# Function to change the pitch of the audio data\n",
    "def pitch(data, sampling_rate, pitch_factor=0.7):\n",
    "    # Convert pitch factor to semitones\n",
    "    n_steps = 12 * np.log2(pitch_factor)\n",
    "    return librosa.effects.pitch_shift(data, sr=sampling_rate, n_steps=n_steps)\n",
    "\n",
    "# Load an example audio file from the dataset\n",
    "path = np.array(data_path.Path)[1]\n",
    "data, sample_rate = librosa.load(path)\n"
   ]
  },
  {
   "cell_type": "code",
   "execution_count": null,
   "id": "c21fd0cc-1cb0-483f-bebe-694c607fa380",
   "metadata": {
    "execution": {
     "iopub.execute_input": "2025-08-06T19:27:43.241161Z",
     "iopub.status.busy": "2025-08-06T19:27:43.241061Z",
     "iopub.status.idle": "2025-08-06T19:27:43.252866Z",
     "shell.execute_reply": "2025-08-06T19:27:43.252571Z"
    }
   },
   "outputs": [],
   "source": "# Set the figure size for the waveplot\nplt.figure(figsize=(14, 4))\n\n# Display the waveform of the audio data using librosa's waveshow function\ntry:\n    librosa.display.waveshow(y=data, sr=sample_rate)\nexcept AttributeError:\n    # Fallback to basic matplotlib plot if librosa.display.waveshow fails\n    time_axis = librosa.frames_to_time(np.arange(len(data)), sr=sample_rate)\n    plt.plot(time_axis, data)\n    plt.xlabel('Time (s)')\n    plt.ylabel('Amplitude')\n\n# Play the audio from the file path\nAudio(path)"
  },
  {
   "cell_type": "code",
   "execution_count": null,
   "id": "3fcfa907-3aa9-4806-b76d-0cb5f4b054db",
   "metadata": {
    "execution": {
     "iopub.execute_input": "2025-08-06T19:27:43.253781Z",
     "iopub.status.busy": "2025-08-06T19:27:43.253680Z",
     "iopub.status.idle": "2025-08-06T19:27:43.263274Z",
     "shell.execute_reply": "2025-08-06T19:27:43.262988Z"
    }
   },
   "outputs": [],
   "source": "# Add noise to the audio data\nx = noise(data)\n\n# Set the figure size for the waveplot\nplt.figure(figsize=(14, 4))\n\n# Display the waveform of the noisy audio data using librosa's waveshow function\ntry:\n    librosa.display.waveshow(y=x, sr=sample_rate)\nexcept AttributeError:\n    # Fallback to basic matplotlib plot if librosa.display.waveshow fails\n    time_axis = librosa.frames_to_time(np.arange(len(x)), sr=sample_rate)\n    plt.plot(time_axis, x)\n    plt.xlabel('Time (s)')\n    plt.ylabel('Amplitude')\n\n# Play the noisy audio data at the original sample rate\nAudio(x, rate=sample_rate)"
  },
  {
   "cell_type": "code",
   "execution_count": null,
   "id": "b2a563e8-de85-4a35-9e1a-c146c8ca847e",
   "metadata": {
    "execution": {
     "iopub.execute_input": "2025-08-06T19:27:43.264205Z",
     "iopub.status.busy": "2025-08-06T19:27:43.264104Z",
     "iopub.status.idle": "2025-08-06T19:27:43.273671Z",
     "shell.execute_reply": "2025-08-06T19:27:43.273371Z"
    }
   },
   "outputs": [],
   "source": "# Stretch the audio data in time (change its speed)\nx = stretch(data)\n\n# Set the figure size for the waveplot\nplt.figure(figsize=(14, 4))\n\n# Display the waveform of the stretched audio data using librosa's waveshow function\ntry:\n    librosa.display.waveshow(y=x, sr=sample_rate)\nexcept AttributeError:\n    # Fallback to basic matplotlib plot if librosa.display.waveshow fails\n    time_axis = librosa.frames_to_time(np.arange(len(x)), sr=sample_rate)\n    plt.plot(time_axis, x)\n    plt.xlabel('Time (s)')\n    plt.ylabel('Amplitude')\n\n# Play the stretched audio data at the original sample rate\nAudio(x, rate=sample_rate)"
  },
  {
   "cell_type": "code",
   "execution_count": null,
   "id": "aaf5bb07-4f11-4205-b35a-316c17abdd63",
   "metadata": {
    "execution": {
     "iopub.execute_input": "2025-08-06T19:27:43.274572Z",
     "iopub.status.busy": "2025-08-06T19:27:43.274470Z",
     "iopub.status.idle": "2025-08-06T19:27:43.284563Z",
     "shell.execute_reply": "2025-08-06T19:27:43.284266Z"
    }
   },
   "outputs": [],
   "source": "# Apply random time shift to the audio data\nx = shift(data)\n\n# Set the figure size for the waveplot\nplt.figure(figsize=(14, 4))\n\n# Display the waveform of the shifted audio data using librosa's waveshow function\ntry:\n    librosa.display.waveshow(y=x, sr=sample_rate)\nexcept AttributeError:\n    # Fallback to basic matplotlib plot if librosa.display.waveshow fails\n    time_axis = librosa.frames_to_time(np.arange(len(x)), sr=sample_rate)\n    plt.plot(time_axis, x)\n    plt.xlabel('Time (s)')\n    plt.ylabel('Amplitude')\n\n# Play the shifted audio data at the original sample rate\nAudio(x, rate=sample_rate)"
  },
  {
   "cell_type": "code",
   "execution_count": null,
   "id": "b9193945-60a0-49bf-bbdb-58e56bf88377",
   "metadata": {
    "execution": {
     "iopub.execute_input": "2025-08-06T19:27:43.285483Z",
     "iopub.status.busy": "2025-08-06T19:27:43.285378Z",
     "iopub.status.idle": "2025-08-06T19:27:43.294919Z",
     "shell.execute_reply": "2025-08-06T19:27:43.294631Z"
    }
   },
   "outputs": [],
   "source": "# Change the pitch of the audio data\nx = pitch(data, sample_rate)\n\n# Set the figure size for the waveplot\nplt.figure(figsize=(14, 4))\n\n# Display the waveform of the pitch-shifted audio data using librosa's waveshow function\ntry:\n    librosa.display.waveshow(y=x, sr=sample_rate)\nexcept AttributeError:\n    # Fallback to basic matplotlib plot if librosa.display.waveshow fails\n    time_axis = librosa.frames_to_time(np.arange(len(x)), sr=sample_rate)\n    plt.plot(time_axis, x)\n    plt.xlabel('Time (s)')\n    plt.ylabel('Amplitude')\n\n# Play the pitch-shifted audio data at the original sample rate\nAudio(x, rate=sample_rate)"
  },
  {
   "cell_type": "code",
   "execution_count": null,
   "id": "90431316-8594-4682-b0fa-8280ed0c9366",
   "metadata": {
    "execution": {
     "iopub.execute_input": "2025-08-06T19:27:43.295851Z",
     "iopub.status.busy": "2025-08-06T19:27:43.295749Z",
     "iopub.status.idle": "2025-08-06T19:27:43.299707Z",
     "shell.execute_reply": "2025-08-06T19:27:43.299403Z"
    }
   },
   "outputs": [],
   "source": [
    "# Function to extract various audio features\n",
    "def extract_features(data):\n",
    "    result = np.array([])  # Initialize empty array to store feature values\n",
    "\n",
    "    # Zero Crossing Rate (ZCR)\n",
    "    zcr = np.mean(librosa.feature.zero_crossing_rate(y=data).T, axis=0)\n",
    "    result = np.hstack((result, zcr))  # Horizontally stack ZCR features\n",
    "\n",
    "    # Chroma Short-Time Fourier Transform (STFT)\n",
    "    stft = np.abs(librosa.stft(data))\n",
    "    chroma_stft = np.mean(librosa.feature.chroma_stft(S=stft, sr=sample_rate).T, axis=0)\n",
    "    result = np.hstack((result, chroma_stft))  # Horizontally stack Chroma STFT features\n",
    "\n",
    "    # Mel-frequency Cepstral Coefficients (MFCC)\n",
    "    mfcc = np.mean(librosa.feature.mfcc(y=data, sr=sample_rate).T, axis=0)\n",
    "    result = np.hstack((result, mfcc))  # Horizontally stack MFCC features\n",
    "\n",
    "    # Root Mean Square (RMS) Value\n",
    "    rms = np.mean(librosa.feature.rms(y=data).T, axis=0)\n",
    "    result = np.hstack((result, rms))  # Horizontally stack RMS features\n",
    "\n",
    "    # Mel Spectrogram\n",
    "    mel = np.mean(librosa.feature.melspectrogram(y=data, sr=sample_rate).T, axis=0)\n",
    "    result = np.hstack((result, mel))  # Horizontally stack Mel Spectrogram features\n",
    "    \n",
    "    return result\n",
    "\n",
    "# Function to extract features from a given audio file with augmentation\n",
    "def get_features(path):\n",
    "    # Load audio file with a specified duration and offset to avoid silence at start and end\n",
    "    data, sample_rate = librosa.load(path, duration=2.5, offset=0.6)\n",
    "    \n",
    "    # Extract features from original data\n",
    "    res1 = extract_features(data)\n",
    "    result = np.array(res1)\n",
    "    \n",
    "    # Apply noise augmentation and extract features\n",
    "    noise_data = noise(data)\n",
    "    res2 = extract_features(noise_data)\n",
    "    result = np.vstack((result, res2))  # Stack vertically the noise-augmented features\n",
    "    \n",
    "    # Apply time stretching and pitch shifting, then extract features\n",
    "    new_data = stretch(data)\n",
    "    data_stretch_pitch = pitch(new_data, sample_rate)\n",
    "    res3 = extract_features(data_stretch_pitch)\n",
    "    result = np.vstack((result, res3))  # Stack vertically the stretch-pitched features\n",
    "    \n",
    "    return result\n"
   ]
  },
  {
   "cell_type": "code",
   "execution_count": null,
   "id": "fa8fd9fa-fba6-4bb3-81db-95d785c3c167",
   "metadata": {
    "execution": {
     "iopub.execute_input": "2025-08-06T19:27:43.300620Z",
     "iopub.status.busy": "2025-08-06T19:27:43.300517Z",
     "iopub.status.idle": "2025-08-06T19:27:43.311318Z",
     "shell.execute_reply": "2025-08-06T19:27:43.311030Z"
    }
   },
   "outputs": [],
   "source": [
    "# Initialize lists to store features (X) and corresponding emotions (Y)\n",
    "X, Y = [], []\n",
    "\n",
    "# Loop through the paths and emotions in the data path dataframe\n",
    "for path, emotion in zip(data_path.Path, data_path.Emotions):\n",
    "    # Extract features from the current audio file\n",
    "    feature = get_features(path)\n",
    "    \n",
    "    # Loop through the extracted features and append them to X\n",
    "    for ele in feature:\n",
    "        X.append(ele)\n",
    "        # Append the corresponding emotion 3 times (for each augmentation technique)\n",
    "        Y.append(emotion)\n"
   ]
  },
  {
   "cell_type": "code",
   "execution_count": null,
   "id": "152998fa-cfb2-40d1-947c-d9c82165027d",
   "metadata": {
    "execution": {
     "iopub.execute_input": "2025-08-06T19:27:43.312212Z",
     "iopub.status.busy": "2025-08-06T19:27:43.312112Z",
     "iopub.status.idle": "2025-08-06T19:27:43.321163Z",
     "shell.execute_reply": "2025-08-06T19:27:43.320870Z"
    }
   },
   "outputs": [],
   "source": [
    "# Get the length of the feature list (X), emotion label list (Y), and number of audio file paths in the dataset\n",
    "len(X), len(Y), len(data_path.Path)\n"
   ]
  },
  {
   "cell_type": "code",
   "execution_count": null,
   "id": "37186588-527a-4c77-9f78-02e4f1169d5b",
   "metadata": {
    "execution": {
     "iopub.execute_input": "2025-08-06T19:27:43.322099Z",
     "iopub.status.busy": "2025-08-06T19:27:43.321999Z",
     "iopub.status.idle": "2025-08-06T19:27:43.327106Z",
     "shell.execute_reply": "2025-08-06T19:27:43.326815Z"
    }
   },
   "outputs": [],
   "source": [
    "# Create a DataFrame from the feature list (X)\n",
    "Features = pd.DataFrame(X)\n",
    "\n",
    "# Add the emotion labels (Y) as a new column in the DataFrame\n",
    "Features['labels'] = Y\n",
    "\n",
    "# Save the DataFrame to a CSV file named 'features.csv' without including the index\n",
    "Features.to_csv('features.csv', index=False)\n",
    "\n",
    "# Display the first few rows of the DataFrame to verify its contents\n",
    "Features.head()\n"
   ]
  },
  {
   "cell_type": "code",
   "execution_count": null,
   "id": "c128d7f3-48b9-4f48-8681-6973e7c7fc41",
   "metadata": {
    "execution": {
     "iopub.execute_input": "2025-08-06T19:27:43.328011Z",
     "iopub.status.busy": "2025-08-06T19:27:43.327908Z",
     "iopub.status.idle": "2025-08-06T19:27:43.329833Z",
     "shell.execute_reply": "2025-08-06T19:27:43.329552Z"
    }
   },
   "outputs": [],
   "source": [
    "# Select all features except the last column\n",
    "X = Features.iloc[:, :-1].values  \n",
    "\n",
    "# Select the labels column\n",
    "Y = Features['labels'].values\n"
   ]
  },
  {
   "cell_type": "code",
   "execution_count": null,
   "id": "2877c228-cae1-44ba-809b-fe6b9c50ba53",
   "metadata": {
    "execution": {
     "iopub.execute_input": "2025-08-06T19:27:43.330694Z",
     "iopub.status.busy": "2025-08-06T19:27:43.330596Z",
     "iopub.status.idle": "2025-08-06T19:27:43.595810Z",
     "shell.execute_reply": "2025-08-06T19:27:43.595449Z"
    }
   },
   "outputs": [],
   "source": [
    "# One-hot encode the labels for multiclass classification\n",
    "encoder = OneHotEncoder()\n",
    "Y = encoder.fit_transform(np.array(Y).reshape(-1, 1)).toarray()\n"
   ]
  },
  {
   "cell_type": "code",
   "execution_count": null,
   "id": "a7188e9f-6856-4e84-83a6-ded7bbda19cc",
   "metadata": {
    "execution": {
     "iopub.execute_input": "2025-08-06T19:27:43.596992Z",
     "iopub.status.busy": "2025-08-06T19:27:43.596884Z",
     "iopub.status.idle": "2025-08-06T19:27:43.902232Z",
     "shell.execute_reply": "2025-08-06T19:27:43.901882Z"
    }
   },
   "outputs": [],
   "source": [
    "# Split the data into training and testing sets with shuffling\n",
    "x_train, x_test, y_train, y_test = train_test_split(X, Y, random_state=0, shuffle=True)\n",
    "\n",
    "# Display the shapes of the resulting datasets\n",
    "x_train.shape, y_train.shape, x_test.shape, y_test.shape\n"
   ]
  },
  {
   "cell_type": "code",
   "execution_count": null,
   "id": "7b3761de-839a-4809-a612-83cdcc188212",
   "metadata": {
    "execution": {
     "iopub.execute_input": "2025-08-06T19:27:43.903429Z",
     "iopub.status.busy": "2025-08-06T19:27:43.903317Z",
     "iopub.status.idle": "2025-08-06T19:27:43.916924Z",
     "shell.execute_reply": "2025-08-06T19:27:43.916617Z"
    }
   },
   "outputs": [],
   "source": [
    "# Scale the data using StandardScaler to normalize feature values\n",
    "scaler = StandardScaler()\n",
    "x_train = scaler.fit_transform(x_train)  # Fit and transform training data\n",
    "x_test = scaler.transform(x_test)        # Transform testing data\n",
    "\n",
    "# Display the shapes of the scaled datasets\n",
    "x_train.shape, y_train.shape, x_test.shape, y_test.shape\n"
   ]
  },
  {
   "cell_type": "code",
   "execution_count": null,
   "id": "2c6e17cc-2633-49fd-95a7-3e6d70355814",
   "metadata": {
    "execution": {
     "iopub.execute_input": "2025-08-06T19:27:43.917935Z",
     "iopub.status.busy": "2025-08-06T19:27:43.917827Z",
     "iopub.status.idle": "2025-08-06T19:27:43.928907Z",
     "shell.execute_reply": "2025-08-06T19:27:43.928609Z"
    }
   },
   "outputs": [],
   "source": [
    "# Reshape the data to add an extra dimension for model compatibility\n",
    "x_train = np.expand_dims(x_train, axis=2)\n",
    "x_test = np.expand_dims(x_test, axis=2)\n",
    "\n",
    "# Display the shapes of the reshaped datasets\n",
    "x_train.shape, y_train.shape, x_test.shape, y_test.shape\n"
   ]
  },
  {
   "cell_type": "code",
   "execution_count": null,
   "id": "9d5d52ba-d94d-4fe6-9d95-9b8abe113e3c",
   "metadata": {
    "execution": {
     "iopub.execute_input": "2025-08-06T19:27:43.929867Z",
     "iopub.status.busy": "2025-08-06T19:27:43.929762Z",
     "iopub.status.idle": "2025-08-06T19:27:43.946741Z",
     "shell.execute_reply": "2025-08-06T19:27:43.946447Z"
    }
   },
   "outputs": [],
   "source": [
    "# Initialize a Sequential model\n",
    "model = Sequential()\n",
    "\n",
    "# Add the first Conv1D layer with 256 filters, kernel size 5, ReLU activation, and input shape\n",
    "model.add(Conv1D(256, kernel_size=5, strides=1, padding='same', activation='relu', input_shape=(x_train.shape[1], 1)))\n",
    "# Add a MaxPooling1D layer with pool size 5\n",
    "model.add(MaxPooling1D(pool_size=5, strides=2, padding='same'))\n",
    "\n",
    "# Add a second Conv1D layer with 256 filters and ReLU activation\n",
    "model.add(Conv1D(256, kernel_size=5, strides=1, padding='same', activation='relu'))\n",
    "# Add another MaxPooling1D layer\n",
    "model.add(MaxPooling1D(pool_size=5, strides=2, padding='same'))\n",
    "\n",
    "# Add a third Conv1D layer with 128 filters and ReLU activation\n",
    "model.add(Conv1D(128, kernel_size=5, strides=1, padding='same', activation='relu'))\n",
    "# Add another MaxPooling1D layer\n",
    "model.add(MaxPooling1D(pool_size=5, strides=2, padding='same'))\n",
    "# Add a Dropout layer with 20% dropout rate\n",
    "model.add(Dropout(0.2))\n",
    "\n",
    "# Add a fourth Conv1D layer with 64 filters and ReLU activation\n",
    "model.add(Conv1D(64, kernel_size=5, strides=1, padding='same', activation='relu'))\n",
    "# Add another MaxPooling1D layer\n",
    "model.add(MaxPooling1D(pool_size=5, strides=2, padding='same'))\n",
    "\n",
    "# Flatten the output from previous layers\n",
    "model.add(Flatten())\n",
    "# Add a Dense layer with 32 units and ReLU activation\n",
    "model.add(Dense(units=32, activation='relu'))\n",
    "# Add a Dropout layer with 30% dropout rate\n",
    "model.add(Dropout(0.3))\n",
    "\n",
    "# Add the output Dense layer with 8 units (number of classes) and softmax activation\n",
    "model.add(Dense(units=8, activation='softmax'))\n",
    "\n",
    "# Compile the model with Adam optimizer and categorical crossentropy loss\n",
    "model.compile(optimizer='adam', loss='categorical_crossentropy', metrics=['accuracy'])\n",
    "\n",
    "# Display the model summary\n",
    "model.summary()\n"
   ]
  },
  {
   "cell_type": "code",
   "execution_count": null,
   "id": "580e57b2-9dcb-4481-9774-871a453a4e63",
   "metadata": {
    "execution": {
     "iopub.execute_input": "2025-08-06T19:27:43.947689Z",
     "iopub.status.busy": "2025-08-06T19:27:43.947588Z",
     "iopub.status.idle": "2025-08-06T19:27:43.958284Z",
     "shell.execute_reply": "2025-08-06T19:27:43.957986Z"
    }
   },
   "outputs": [],
   "source": [
    "# Define a ReduceLROnPlateau callback to reduce the learning rate when the loss plateaus\n",
    "rlrp = ReduceLROnPlateau(monitor='loss', factor=0.4, verbose=0, patience=2, min_lr=1e-7)\n",
    "\n",
    "# Train the model with the training data, using a batch size of 64 and 50 epochs\n",
    "# Validate the model on the testing data and use the ReduceLROnPlateau callback\n",
    "history = model.fit(x_train, y_train, batch_size=64, epochs=100, validation_data=(x_test, y_test), callbacks=[rlrp])\n"
   ]
  },
  {
   "cell_type": "code",
   "execution_count": null,
   "id": "7b1ce5ce-2558-4b20-81b9-4134ac4a3ebd",
   "metadata": {
    "execution": {
     "iopub.execute_input": "2025-08-06T19:27:43.959233Z",
     "iopub.status.busy": "2025-08-06T19:27:43.959131Z",
     "iopub.status.idle": "2025-08-06T19:27:43.973898Z",
     "shell.execute_reply": "2025-08-06T19:27:43.973610Z"
    }
   },
   "outputs": [],
   "source": [
    "# Evaluate the model on the test data and print the accuracy\n",
    "print(\"Accuracy of our model on test data: \", model.evaluate(x_test, y_test)[1] * 100, \"%\")\n",
    "\n",
    "# Define the range of epochs for plotting\n",
    "epochs = [i for i in range(100)]\n",
    "\n",
    "# Create subplots for loss and accuracy\n",
    "fig, ax = plt.subplots(1, 2)\n",
    "\n",
    "# Extract training and testing accuracy and loss from history\n",
    "train_acc = history.history['accuracy']\n",
    "train_loss = history.history['loss']\n",
    "test_acc = history.history['val_accuracy']\n",
    "test_loss = history.history['val_loss']\n",
    "\n",
    "# Set figure size\n",
    "fig.set_size_inches(20, 6)\n",
    "\n",
    "# Plot training and testing loss\n",
    "ax[0].plot(epochs, train_loss, label='Training Loss')\n",
    "ax[0].plot(epochs, test_loss, label='Testing Loss')\n",
    "ax[0].set_title('Training & Testing Loss')\n",
    "ax[0].legend()\n",
    "ax[0].set_xlabel(\"Epochs\")\n",
    "\n",
    "# Plot training and testing accuracy\n",
    "ax[1].plot(epochs, train_acc, label='Training Accuracy')\n",
    "ax[1].plot(epochs, test_acc, label='Testing Accuracy')\n",
    "ax[1].set_title('Training & Testing Accuracy')\n",
    "ax[1].legend()\n",
    "ax[1].set_xlabel(\"Epochs\")\n",
    "\n",
    "# Show the plots\n",
    "plt.show()\n"
   ]
  },
  {
   "cell_type": "code",
   "execution_count": null,
   "id": "0a8b14af-4071-4ea6-9b04-9eb4f8a743ce",
   "metadata": {
    "execution": {
     "iopub.execute_input": "2025-08-06T19:27:43.974827Z",
     "iopub.status.busy": "2025-08-06T19:27:43.974727Z",
     "iopub.status.idle": "2025-08-06T19:27:43.984012Z",
     "shell.execute_reply": "2025-08-06T19:27:43.983714Z"
    }
   },
   "outputs": [],
   "source": [
    "# Predicting on the test data (model outputs probabilities for each class)\n",
    "pred_test = model.predict(x_test)\n",
    "\n",
    "# Inverse transforming the predicted probabilities to class labels\n",
    "# This converts the one-hot encoded predictions back to original class labels\n",
    "y_pred = encoder.inverse_transform(pred_test)\n",
    "\n",
    "# Inverse transforming the actual test labels (y_test) from one-hot encoding to original class labels\n",
    "y_test = encoder.inverse_transform(y_test)\n"
   ]
  },
  {
   "cell_type": "code",
   "execution_count": null,
   "id": "06a850c7-99a2-449b-8ea1-f8f50e19346a",
   "metadata": {
    "execution": {
     "iopub.execute_input": "2025-08-06T19:27:43.984947Z",
     "iopub.status.busy": "2025-08-06T19:27:43.984845Z",
     "iopub.status.idle": "2025-08-06T19:27:43.995150Z",
     "shell.execute_reply": "2025-08-06T19:27:43.994856Z"
    }
   },
   "outputs": [],
   "source": [
    "# Creating a DataFrame to compare the predicted and actual labels\n",
    "df = pd.DataFrame(columns=['Predicted Labels', 'Actual Labels'])\n",
    "\n",
    "# Assigning the flattened predicted and actual labels to the DataFrame\n",
    "# Flattening is done to convert arrays into 1D to ensure proper assignment\n",
    "df['Predicted Labels'] = y_pred.flatten()  # Flattened predicted labels\n",
    "df['Actual Labels'] = y_test.flatten()    # Flattened actual labels\n",
    "\n",
    "# Display the first 10 rows of the DataFrame to inspect the comparison\n",
    "df.head(10)\n"
   ]
  },
  {
   "cell_type": "code",
   "execution_count": null,
   "id": "47ce7531-a288-4dab-9fa6-200c4cab365f",
   "metadata": {
    "execution": {
     "iopub.execute_input": "2025-08-06T19:27:43.996081Z",
     "iopub.status.busy": "2025-08-06T19:27:43.995980Z",
     "iopub.status.idle": "2025-08-06T19:27:44.007617Z",
     "shell.execute_reply": "2025-08-06T19:27:44.007317Z"
    }
   },
   "outputs": [],
   "source": [
    "# Generate confusion matrix to compare predicted and actual labels\n",
    "cm = confusion_matrix(y_test, y_pred)\n",
    "\n",
    "# Set figure size for better visualization\n",
    "plt.figure(figsize=(12, 10))\n",
    "\n",
    "# Convert confusion matrix into a DataFrame for easier handling\n",
    "cm = pd.DataFrame(cm, index=[i for i in encoder.categories_[0]], columns=[i for i in encoder.categories_[0]])\n",
    "\n",
    "# Plot the confusion matrix as a heatmap with annotations\n",
    "sns.heatmap(cm, linecolor='white', cmap='Blues', linewidth=1, annot=True, fmt='')\n",
    "\n",
    "# Add title and axis labels\n",
    "plt.title('Confusion Matrix', size=20)\n",
    "plt.xlabel('Predicted Labels', size=14)\n",
    "plt.ylabel('Actual Labels', size=14)\n",
    "\n",
    "# Display the plot\n",
    "plt.show()\n"
   ]
  },
  {
   "cell_type": "code",
   "execution_count": null,
   "id": "a2faac86-b50e-4830-8595-36e6ccaf1035",
   "metadata": {
    "execution": {
     "iopub.execute_input": "2025-08-06T19:27:44.008545Z",
     "iopub.status.busy": "2025-08-06T19:27:44.008443Z",
     "iopub.status.idle": "2025-08-06T19:27:44.017252Z",
     "shell.execute_reply": "2025-08-06T19:27:44.016955Z"
    }
   },
   "outputs": [],
   "source": [
    "# Print detailed classification report with precision, recall, and F1-score for each class\n",
    "print(classification_report(y_test, y_pred))\n"
   ]
  },
  {
   "cell_type": "code",
   "execution_count": null,
   "id": "6cc5be1e-5804-42bd-9c82-7b6874d9f823",
   "metadata": {},
   "outputs": [],
   "source": []
  },
  {
   "cell_type": "code",
   "execution_count": null,
   "id": "7dbda517",
   "metadata": {},
   "outputs": [],
   "source": []
  },
  {
   "cell_type": "code",
   "execution_count": null,
   "id": "f4c4cb1f",
   "metadata": {},
   "outputs": [],
   "source": []
  },
  {
   "cell_type": "code",
   "execution_count": null,
   "id": "892f64bd",
   "metadata": {},
   "outputs": [],
   "source": []
  },
  {
   "cell_type": "code",
   "execution_count": null,
   "id": "b12fb2db",
   "metadata": {},
   "outputs": [],
   "source": []
  },
  {
   "cell_type": "code",
   "execution_count": null,
   "id": "fbf171c5",
   "metadata": {},
   "outputs": [],
   "source": []
  },
  {
   "cell_type": "code",
   "execution_count": null,
   "id": "83377184",
   "metadata": {},
   "outputs": [],
   "source": []
  }
 ],
 "metadata": {
  "kernelspec": {
   "display_name": "base",
   "language": "python",
   "name": "python3"
  },
  "language_info": {
   "codemirror_mode": {
    "name": "ipython",
    "version": 3
   },
   "file_extension": ".py",
   "mimetype": "text/x-python",
   "name": "python",
   "nbconvert_exporter": "python",
   "pygments_lexer": "ipython3",
   "version": "3.11.11"
  }
 },
 "nbformat": 4,
 "nbformat_minor": 5
}